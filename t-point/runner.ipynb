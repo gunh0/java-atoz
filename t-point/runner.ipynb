{
 "cells": [
  {
   "cell_type": "code",
   "execution_count": 4,
   "metadata": {},
   "outputs": [
    {
     "name": "stdout",
     "output_type": "stream",
     "text": [
      "openjdk 11.0.16.1 2022-07-19 LTS\n",
      "OpenJDK Runtime Environment Zulu11.58+23-CA (build 11.0.16.1+1-LTS)\n",
      "OpenJDK 64-Bit Server VM Zulu11.58+23-CA (build 11.0.16.1+1-LTS, mixed mode)\n"
     ]
    }
   ],
   "source": [
    "!java --version"
   ]
  },
  {
   "attachments": {},
   "cell_type": "markdown",
   "metadata": {},
   "source": [
    "### 1. Regex"
   ]
  },
  {
   "cell_type": "code",
   "execution_count": 1,
   "metadata": {},
   "outputs": [
    {
     "name": "stdout",
     "output_type": "stream",
     "text": [
      "true true true\n"
     ]
    }
   ],
   "source": [
    "!cd ./01_Regex && java RegexExample1.java"
   ]
  },
  {
   "attachments": {},
   "cell_type": "markdown",
   "metadata": {},
   "source": [
    "### 2. Exception"
   ]
  },
  {
   "cell_type": "code",
   "execution_count": 3,
   "metadata": {},
   "outputs": [
    {
     "name": "stdout",
     "output_type": "stream",
     "text": [
      "Exception in thread \"main\" java.lang.ArithmeticException: / by zero\n",
      "\tat ArithmeticException1.main(ArithmeticException1.java:8)\n"
     ]
    }
   ],
   "source": [
    "!cd ./02_Exception && java ArithmeticException1.java"
   ]
  },
  {
   "cell_type": "code",
   "execution_count": 5,
   "metadata": {},
   "outputs": [
    {
     "name": "stdout",
     "output_type": "stream",
     "text": [
      "java.lang.ArithmeticException: / by zero\n",
      "reset of the code...\n"
     ]
    }
   ],
   "source": [
    "!cd ./02_Exception && java ArithmeticException2.java"
   ]
  },
  {
   "cell_type": "code",
   "execution_count": 6,
   "metadata": {},
   "outputs": [
    {
     "name": "stdout",
     "output_type": "stream",
     "text": [
      "java.lang.ArithmeticException: / by zero\n"
     ]
    }
   ],
   "source": [
    "!cd ./02_Exception && java ArithmeticException3.java"
   ]
  },
  {
   "cell_type": "code",
   "execution_count": 7,
   "metadata": {},
   "outputs": [
    {
     "name": "stdout",
     "output_type": "stream",
     "text": [
      "java.lang.ArithmeticException: / by zero\n",
      "rest of the code\n"
     ]
    }
   ],
   "source": [
    "!cd ./02_Exception && java ArithmeticException4.java"
   ]
  },
  {
   "cell_type": "code",
   "execution_count": 8,
   "metadata": {},
   "outputs": [
    {
     "name": "stdout",
     "output_type": "stream",
     "text": [
      "Can't divided by zero\n"
     ]
    }
   ],
   "source": [
    "!cd ./02_Exception && java ArithmeticException5.java"
   ]
  },
  {
   "cell_type": "code",
   "execution_count": 9,
   "metadata": {},
   "outputs": [
    {
     "name": "stdout",
     "output_type": "stream",
     "text": [
      "25\n"
     ]
    }
   ],
   "source": [
    "!cd ./02_Exception && java ArithmeticException6.java"
   ]
  },
  {
   "cell_type": "code",
   "execution_count": 10,
   "metadata": {},
   "outputs": [
    {
     "name": "stdout",
     "output_type": "stream",
     "text": [
      "Exception in thread \"main\" java.lang.ArithmeticException: / by zero\n",
      "\tat ArithmeticException7.main(ArithmeticException7.java:11)\n"
     ]
    }
   ],
   "source": [
    "!cd ./02_Exception && java ArithmeticException7.java"
   ]
  },
  {
   "cell_type": "code",
   "execution_count": 11,
   "metadata": {},
   "outputs": [
    {
     "name": "stdout",
     "output_type": "stream",
     "text": [
      "Exception in thread \"main\" java.lang.ArithmeticException: / by zero\n",
      "\tat ArithmeticException8.main(ArithmeticException8.java:4)\n"
     ]
    }
   ],
   "source": [
    "!cd ./02_Exception && java ArithmeticException8.java"
   ]
  },
  {
   "cell_type": "code",
   "execution_count": 14,
   "metadata": {},
   "outputs": [
    {
     "name": "stdout",
     "output_type": "stream",
     "text": [
      "java.lang.ArrayIndexOutOfBoundsException: Index 10 out of bounds for length 4\n",
      "rest of the code\n"
     ]
    }
   ],
   "source": [
    "!cd ./02_Exception && java ArrayException.java"
   ]
  },
  {
   "cell_type": "code",
   "execution_count": 15,
   "metadata": {},
   "outputs": [
    {
     "name": "stdout",
     "output_type": "stream",
     "text": [
      "File saved successfully\n"
     ]
    }
   ],
   "source": [
    "!cd ./02_Exception && java FileException.java"
   ]
  },
  {
   "attachments": {},
   "cell_type": "markdown",
   "metadata": {},
   "source": [
    "### 3. Multiple Exceptions"
   ]
  },
  {
   "cell_type": "code",
   "execution_count": 16,
   "metadata": {},
   "outputs": [
    {
     "name": "stdout",
     "output_type": "stream",
     "text": [
      "Arithmetic Exception occurs\n",
      "rest of the code\n"
     ]
    }
   ],
   "source": [
    "!cd ./03_MultipleExceptions && java MultipleCatch1.java"
   ]
  },
  {
   "cell_type": "code",
   "execution_count": 18,
   "metadata": {},
   "outputs": [
    {
     "name": "stdout",
     "output_type": "stream",
     "text": [
      "ArrayIndexOutOfBounds Exception occurs\n",
      "rest of the code\n"
     ]
    }
   ],
   "source": [
    "!cd ./03_MultipleExceptions && java MultipleCatch2.java"
   ]
  },
  {
   "cell_type": "code",
   "execution_count": 19,
   "metadata": {},
   "outputs": [
    {
     "name": "stdout",
     "output_type": "stream",
     "text": [
      "Arithmetic Exception occurs\n",
      "rest of the code\n"
     ]
    }
   ],
   "source": [
    "!cd ./03_MultipleExceptions && java MultipleCatch3.java"
   ]
  },
  {
   "cell_type": "code",
   "execution_count": 20,
   "metadata": {},
   "outputs": [
    {
     "name": "stdout",
     "output_type": "stream",
     "text": [
      "Parent Exception occurs\n",
      "rest of the code\n"
     ]
    }
   ],
   "source": [
    "!cd ./03_MultipleExceptions && java MultipleCatch4.java"
   ]
  },
  {
   "cell_type": "code",
   "execution_count": 27,
   "metadata": {},
   "outputs": [
    {
     "name": "stdout",
     "output_type": "stream",
     "text": [
      "task1 is completed\n",
      "rest of the code...\n"
     ]
    }
   ],
   "source": [
    "!cd ./03_MultipleExceptions && java MultipleCatch5.java"
   ]
  },
  {
   "attachments": {},
   "cell_type": "markdown",
   "metadata": {},
   "source": [
    "### 4 Nested try Block"
   ]
  },
  {
   "cell_type": "code",
   "execution_count": 2,
   "metadata": {},
   "outputs": [
    {
     "name": "stdout",
     "output_type": "stream",
     "text": [
      "going to divide by 0\n",
      "java.lang.ArithmeticException: / by zero\n",
      "java.lang.ArrayIndexOutOfBoundsException: Index 5 out of bounds for length 5\n",
      "other statement\n",
      "normal flow..\n"
     ]
    }
   ],
   "source": [
    "!cd ./04_NestedTryBlock && java NestedTryBlock1.java"
   ]
  },
  {
   "cell_type": "code",
   "execution_count": 1,
   "metadata": {},
   "outputs": [
    {
     "name": "stdout",
     "output_type": "stream",
     "text": [
      "java.lang.ArrayIndexOutOfBoundsException: Index 10 out of bounds for length 4 outer (main) try block\n"
     ]
    }
   ],
   "source": [
    "!cd ./04_NestedTryBlock && java NestedTryBlock2.java"
   ]
  },
  {
   "attachments": {},
   "cell_type": "markdown",
   "metadata": {},
   "source": [
    "### 5 Finally Block"
   ]
  },
  {
   "cell_type": "code",
   "execution_count": 3,
   "metadata": {},
   "outputs": [
    {
     "name": "stdout",
     "output_type": "stream",
     "text": [
      "5\n",
      "finally block is always executed\n",
      "rest of phe code...\n"
     ]
    }
   ],
   "source": [
    "!cd ./05_FinallyBlock && java TryFinally1.java"
   ]
  },
  {
   "cell_type": "code",
   "execution_count": 4,
   "metadata": {},
   "outputs": [
    {
     "name": "stdout",
     "output_type": "stream",
     "text": [
      "Inside the try block\n",
      "finally block is always executed\n",
      "Exception in thread \"main\" java.lang.ArithmeticException: / by zero\n",
      "\tat TryFinally2.main(TryFinally2.java:7)\n"
     ]
    }
   ],
   "source": [
    "!cd ./05_FinallyBlock && java TryFinally2.java"
   ]
  },
  {
   "cell_type": "markdown",
   "metadata": {},
   "source": []
  }
 ],
 "metadata": {
  "kernelspec": {
   "display_name": "Python 3",
   "language": "python",
   "name": "python3"
  },
  "language_info": {
   "codemirror_mode": {
    "name": "ipython",
    "version": 3
   },
   "file_extension": ".py",
   "mimetype": "text/x-python",
   "name": "python",
   "nbconvert_exporter": "python",
   "pygments_lexer": "ipython3",
   "version": "3.10.9"
  },
  "orig_nbformat": 4,
  "vscode": {
   "interpreter": {
    "hash": "b0fa6594d8f4cbf19f97940f81e996739fb7646882a419484c72d19e05852a7e"
   }
  }
 },
 "nbformat": 4,
 "nbformat_minor": 2
}
