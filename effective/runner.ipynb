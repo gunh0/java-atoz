{
 "cells": [
  {
   "cell_type": "code",
   "execution_count": 1,
   "metadata": {},
   "outputs": [
    {
     "name": "stdout",
     "output_type": "stream",
     "text": [
      "openjdk 17.0.7 2023-04-18 LTS\n",
      "OpenJDK Runtime Environment Corretto-17.0.7.7.1 (build 17.0.7+7-LTS)\n",
      "OpenJDK 64-Bit Server VM Corretto-17.0.7.7.1 (build 17.0.7+7-LTS, mixed mode, sharing)\n"
     ]
    }
   ],
   "source": [
    "!java --version"
   ]
  },
  {
   "cell_type": "code",
   "execution_count": 2,
   "metadata": {},
   "outputs": [
    {
     "name": "stdout",
     "output_type": "stream",
     "text": [
      "01_StaticFactoryMethodComparison.java:20: warning: [removal] Boolean(boolean) in Boolean has been deprecated and marked for removal\n",
      "            Boolean result = new Boolean(testBoolean);\n",
      "                             ^\n",
      "1 warning\n",
      "Total time taken using valueOf: 2 milliseconds\n",
      "Total time taken using direct creation: 2 milliseconds\n"
     ]
    }
   ],
   "source": [
    "!java 01_StaticFactoryMethodComparison.java"
   ]
  },
  {
   "attachments": {},
   "cell_type": "markdown",
   "metadata": {},
   "source": [
    "This code compares the performance of creating objects using the valueOf method and direct creation. It measures the time taken for each approach and provides a comparison of their performance."
   ]
  },
  {
   "cell_type": "code",
   "execution_count": 3,
   "metadata": {},
   "outputs": [
    {
     "name": "stdout",
     "output_type": "stream",
     "text": [
      "Note: 08_FinalizerAttack.java uses or overrides a deprecated API.\n",
      "Note: Recompile with -Xlint:deprecation for details.\n",
      "EvilFinalizer's finalize() is executed\n",
      "Malicious code executed!\n",
      "Finalizer executed: true\n"
     ]
    }
   ],
   "source": [
    "!java 08_FinalizerAttack.java"
   ]
  },
  {
   "attachments": {},
   "cell_type": "markdown",
   "metadata": {},
   "source": [
    "It's important to note that this code serves as an example to illustrate the potential risks associated with the finalize() method. In real-world scenarios, it is crucial to ensure proper exception handling and security measures to prevent the exploitation of such vulnerabilities."
   ]
  },
  {
   "cell_type": "code",
   "execution_count": 4,
   "metadata": {},
   "outputs": [
    {
     "name": "stdout",
     "output_type": "stream",
     "text": [
      "Set 1: [banana, apple]\n",
      "Set 2: [banana, date, cherry]\n",
      "Temporary set: [banana]\n",
      "Number of common elements: 1\n"
     ]
    }
   ],
   "source": [
    "!java 26_UnboundedWildcard.java"
   ]
  },
  {
   "attachments": {},
   "cell_type": "markdown",
   "metadata": {},
   "source": [
    "The unbounded wildcard type (Set<?>) can be used in situations where the type parameter of a generic method or class is unknown or irrelevant. In such cases, the method can handle sets of various types while maintaining type safety.\n",
    "\n",
    "The reason why a Set declared with an unbounded wildcard type cannot add elements other than null is that the compiler cannot determine the type of the generic type parameter. Therefore, in order to ensure type safety, the compiler does not perform type checking on the elements at compile time. As a result, if you try to add elements other than null, a compile error will occur."
   ]
  },
  {
   "cell_type": "markdown",
   "metadata": {},
   "source": [
    "### Item 70: Use checked exceptions for recoverable conditions and runtime excpetions for programming errors"
   ]
  },
  {
   "cell_type": "code",
   "execution_count": 5,
   "metadata": {},
   "outputs": [
    {
     "name": "stdout",
     "output_type": "stream",
     "text": [
      "Insufficient funds. You have only: 100.0\n"
     ]
    }
   ],
   "source": [
    "!java 70_BankAccount.java"
   ]
  },
  {
   "cell_type": "markdown",
   "metadata": {},
   "source": [
    "- `InsufficientFundsExceptio`n is a checked exception (because it extends `Exception`).\n",
    "- When someone tries to withdraw an amount greater than their balance, `InsufficientFundsException` is thrown.\n",
    "- The caller (in the `main` method) catches this exception and handles it, thereby showing how the condition can be recovered from."
   ]
  },
  {
   "cell_type": "markdown",
   "metadata": {},
   "source": []
  }
 ],
 "metadata": {
  "kernelspec": {
   "display_name": "base",
   "language": "python",
   "name": "python3"
  },
  "language_info": {
   "codemirror_mode": {
    "name": "ipython",
    "version": 3
   },
   "file_extension": ".py",
   "mimetype": "text/x-python",
   "name": "python",
   "nbconvert_exporter": "python",
   "pygments_lexer": "ipython3",
   "version": "3.10.9"
  },
  "orig_nbformat": 4
 },
 "nbformat": 4,
 "nbformat_minor": 2
}
